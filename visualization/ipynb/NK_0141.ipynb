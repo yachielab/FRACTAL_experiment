{
 "cells": [
  {
   "cell_type": "code",
   "execution_count": null,
   "source": [
    "import os\n",
    "import sys \n",
    "import matplotlib.pyplot as plt\n",
    "import matplotlib as mpl\n",
    "import seaborn as sns\n",
    "import pandas as pd\n",
    "import numpy as np\n",
    "import statistics"
   ],
   "outputs": [],
   "metadata": {}
  },
  {
   "cell_type": "code",
   "execution_count": null,
   "source": [
    "os.chdir(\"/Users/nk/Documents/backupped/Research/YachieLabLocal/FRACTAL/data/NK_0141\")\n",
    "\n",
    "dirname_list = [\"figures\"]\n",
    "for dirname in dirname_list:\n",
    "    try:\n",
    "        os.mkdir(dirname)\n",
    "    except:\n",
    "        None"
   ],
   "outputs": [],
   "metadata": {}
  },
  {
   "cell_type": "code",
   "execution_count": null,
   "source": [
    "mpl.rcParams['font.family']       = 'sans-serif'\n",
    "mpl.rcParams['font.sans-serif']   = [\"Helvetica\",\"Arial\",\"DejaVu Sans\",\"Lucida Grande\",\"Verdana\"]\n",
    "mpl.rcParams['figure.figsize']    = [4,3]\n",
    "mpl.rcParams['font.size']         = 10\n",
    "mpl.rcParams[\"axes.labelcolor\"]   = \"#000000\"\n",
    "mpl.rcParams[\"axes.linewidth\"]    = 1.0 \n",
    "mpl.rcParams[\"xtick.major.width\"] = 1.0\n",
    "mpl.rcParams[\"ytick.major.width\"] = 1.0\n",
    "cmap1 = plt.cm.tab10\n",
    "cmap2 = plt.cm.Set3  \n",
    "colors1 = [cmap1(i) for i in range(0,10)]\n",
    "colors2 = [cmap2(i) for i in range(0,12)] "
   ],
   "outputs": [],
   "metadata": {}
  },
  {
   "cell_type": "code",
   "execution_count": null,
   "source": [
    "df = pd.read_table(\"/Users/nk/Documents/backupped/Research/YachieLabLocal/FRACTAL/data/NK_0141/scale_id_Nmutationperbranch.txt\", names = (\"scale\",'id', 'Nmutation'))"
   ],
   "outputs": [],
   "metadata": {}
  },
  {
   "cell_type": "code",
   "execution_count": null,
   "source": [
    "fig = plt.figure(figsize=(3,2))\n",
    "ax = fig.add_axes([0.1,0.1,0.8,0.8])\n",
    "ax.set_xlabel(\"Scale (x)\")\n",
    "ax.set_ylabel(\"Prob./pos./branch\")\n",
    "ax.scatter(df['scale'], df['Nmutation']/255, 3)\n",
    "ax.set_xscale(\"log\")\n",
    "ax.set_xlim(0.001, 10)\n",
    "ax.set_ylim(0, 0.01)\n",
    "plt.savefig(\"figures/NK_0141_small_dot.pdf\", bbox_inches='tight')"
   ],
   "outputs": [],
   "metadata": {}
  },
  {
   "cell_type": "code",
   "execution_count": null,
   "source": [
    "df"
   ],
   "outputs": [],
   "metadata": {}
  },
  {
   "cell_type": "code",
   "execution_count": null,
   "source": [
    "max_med_min_list = []\n",
    "for scale in set(df['scale']):\n",
    "    Nmutation_list = df[df['scale']==scale]['norm_Nmutation']\n",
    "    max_med_min_list.append([scale, np.percentile(Nmutation_list, 5), np.percentile(Nmutation_list, 50), np.percentile(Nmutation_list, 95)])\n",
    "max_med_min_df = pd.DataFrame(max_med_min_list, columns = [\"scale\", \"max\", \"median\", \"min\"]).sort_values('scale')\n",
    "max_med_min_df"
   ],
   "outputs": [],
   "metadata": {}
  },
  {
   "cell_type": "code",
   "execution_count": null,
   "source": [
    "fig = plt.figure(figsize=(3,2))\n",
    "ax = fig.add_axes([0.1,0.1,0.8,0.8])\n",
    "ax.set_xlabel(\"Scale (x)\")\n",
    "ax.set_ylabel(\"Prob./pos./branch\")\n",
    "\n",
    "df['norm_Nmutation'] = df['Nmutation']/255\n",
    "#sns.boxplot(x = 'scale', y = 'norm_Nmutation', data = df)\n",
    "\n",
    "ax.fill_between(x= max_med_min_df['scale'], y1 = max_med_min_df['max'], y2 = max_med_min_df['min'], alpha=0.5)\n",
    "ax.plot(max_med_min_df['scale'], max_med_min_df['median'])\n",
    "ax.set_xscale(\"log\")\n",
    "ax.set_xlim(0.001, 10)\n",
    "ax.set_ylim(0, 0.01)\n",
    "plt.savefig(\"figures/NK_0141_range.pdf\", bbox_inches='tight')"
   ],
   "outputs": [],
   "metadata": {}
  },
  {
   "cell_type": "code",
   "execution_count": null,
   "source": [],
   "outputs": [],
   "metadata": {}
  }
 ],
 "metadata": {
  "kernelspec": {
   "display_name": "Python 3",
   "language": "python",
   "name": "python3"
  },
  "language_info": {
   "codemirror_mode": {
    "name": "ipython",
    "version": 3
   },
   "file_extension": ".py",
   "mimetype": "text/x-python",
   "name": "python",
   "nbconvert_exporter": "python",
   "pygments_lexer": "ipython3",
   "version": "3.7.1-final"
  }
 },
 "nbformat": 4,
 "nbformat_minor": 2
}