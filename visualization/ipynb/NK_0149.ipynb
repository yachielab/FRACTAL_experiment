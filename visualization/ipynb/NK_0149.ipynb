{
 "metadata": {
  "language_info": {
   "codemirror_mode": {
    "name": "ipython",
    "version": 3
   },
   "file_extension": ".py",
   "mimetype": "text/x-python",
   "name": "python",
   "nbconvert_exporter": "python",
   "pygments_lexer": "ipython3",
   "version": "3.7.1-final"
  },
  "orig_nbformat": 2,
  "kernelspec": {
   "name": "python3",
   "display_name": "Python 3",
   "language": "python"
  }
 },
 "nbformat": 4,
 "nbformat_minor": 2,
 "cells": [
  {
   "cell_type": "code",
   "execution_count": null,
   "source": [
    "import random\n",
    "import os\n",
    "import sys \n",
    "import matplotlib.pyplot as plt\n",
    "import matplotlib as mpl\n",
    "import seaborn as sns\n",
    "import pandas as pd\n",
    "import numpy as np\n",
    "from Bio import SeqIO\n",
    "import gzip\n",
    "from sklearn.linear_model import LinearRegression\n",
    "random.seed(0)"
   ],
   "outputs": [],
   "metadata": {}
  },
  {
   "cell_type": "code",
   "execution_count": null,
   "source": [
    "mpl.rcParams['font.family']       = 'Helvetica'\n",
    "mpl.rcParams['font.sans-serif']   = [\"Helvetica\",\"Arial\",\"DejaVu Sans\",\"Lucida Grande\",\"Verdana\"]\n",
    "mpl.rcParams['figure.figsize']    = [4,3]\n",
    "mpl.rcParams['font.size']         = 9\n",
    "mpl.rcParams[\"axes.labelcolor\"]   = \"#000000\"\n",
    "mpl.rcParams[\"axes.linewidth\"]    = 1.0 \n",
    "mpl.rcParams[\"xtick.major.width\"] = 1.0\n",
    "mpl.rcParams[\"ytick.major.width\"] = 1.0\n",
    "cmap1 = plt.cm.tab10\n",
    "cmap2 = plt.cm.Set3  \n",
    "colors1 = [cmap1(i) for i in range(0,10)]\n",
    "colors2 = [cmap2(i) for i in range(0,12)] \n",
    "plt.style.use('default')"
   ],
   "outputs": [],
   "metadata": {}
  },
  {
   "cell_type": "code",
   "execution_count": null,
   "source": [
    "os.chdir(\"/Users/nk/Documents/backupped/Research/YachieLabLocal/FRACTAL/data/NK_0149\")\n",
    "\n",
    "for dirname in [\"figures\"]:\n",
    "    try:\n",
    "        os.mkdir(dirname)\n",
    "    except:\n",
    "        None"
   ],
   "outputs": [],
   "metadata": {}
  },
  {
   "cell_type": "code",
   "execution_count": null,
   "source": [
    "df_fractal_all = pd.read_csv(\"/Users/nk/Documents/backupped/Research/YachieLabLocal/FRACTAL/data/NK_0149/result/result.fractal.all.txt\", names = [\"TASK_ID\",\"Nseq\",\"Method\",\"rep\",\"Memory\",\"Mem_unit\",\"Time\",\"Time_unit\",\"Ntips\",\"NRFD\"])\n",
    "df_fractal_all[\"Coverage\"] = df_fractal_all[\"Ntips\"] / df_fractal_all[\"Nseq\"] * 100\n",
    "df_fractal_all[\"Accuracy\"] = (1 - df_fractal_all[\"NRFD\"]) * 100\n",
    "df_fractal_all"
   ],
   "outputs": [],
   "metadata": {}
  },
  {
   "cell_type": "code",
   "execution_count": null,
   "source": [
    "df_fractal_all_mean = df_fractal_all.groupby(\"Method\").mean()\n",
    "df_fractal_all_mean[\"Category\"] = \"fractal_100_nodes\"\n",
    "df_fractal_all_mean[\"Method\"] = df_fractal_all_mean.index"
   ],
   "outputs": [],
   "metadata": {}
  },
  {
   "cell_type": "code",
   "execution_count": null,
   "source": [
    "for method in [\"rapidnjNJ\", \"raxmlMP\", \"fasttreeML\"]:\n",
    "    df_fractal_all_ext = df_fractal_all[df_fractal_all[\"Method\"] == method]\n",
    "    fig=plt.figure(figsize=(1.7,1.8))\n",
    "    ax = fig.add_axes([0.1,0.1,0.35,0.8])\n",
    "    ax2 = fig.add_axes([0.8,0.1,0.35,0.8])\n",
    "\n",
    "    ax.scatter(x = \"rep\",y=\"Accuracy\", data=df_fractal_all_ext, color='#7F33FF', alpha=1,s=20)\n",
    "    ax2.scatter(x = \"rep\",y=\"Coverage\", data=df_fractal_all_ext, color='#7F33FF', alpha=1,s=20)\n",
    "    ax.set_xlabel(\"Trials\")\n",
    "    ax.set_title(method)\n",
    "    ax2.set_xlabel(\"Trials\")\n",
    "    ax.set_ylabel(\"Accuracy\")\n",
    "    ax2.set_ylabel(\"Coverage\")\n",
    "    ax.set_ylim(70,101)\n",
    "    ax2.set_ylim(70,101)\n",
    "    ax.spines[\"top\"].set_color(\"none\")\n",
    "    ax.spines[\"right\"].set_color(\"none\")\n",
    "    ax2.spines[\"top\"].set_color(\"none\")\n",
    "    ax2.spines[\"right\"].set_color(\"none\")\n",
    "    ax.set_xticks([1,2,3,4,5])\n",
    "    ax2.set_xticks([1,2,3,4,5])\n",
    "    ax.set_xlim(0,6)\n",
    "    ax2.set_xlim(0,6)\n",
    "    plt.savefig('figures/NK_0149_fractal_all_'+method+'.pdf',bbox_inches='tight')\n",
    "    plt.close()"
   ],
   "outputs": [],
   "metadata": {}
  },
  {
   "cell_type": "code",
   "execution_count": null,
   "source": [
    "df_fractal_subclades = pd.read_csv(\"/Users/nk/Documents/backupped/Research/YachieLabLocal/FRACTAL/data/NK_0149/result/result.fractal.subclades.manual.txt\", names = [\"TASK_ID\",\"Nseq\",\"Method\",\"rep\",\"Memory\",\"Mem_unit\",\"Time\",\"Time_unit\",\"Ntips\",\"NRFD\"])\n",
    "df_fractal_subclades = df_fractal_subclades[df_fractal_subclades[\"Time\"] < 86400]\n",
    "#df_fractal_subclades[\"Coverage\"] = df_fractal_subclades[\"Ntips\"] /  df_fractal_subclades[\"Nseq\"] * 100\n",
    "df_fractal_subclades[\"Accuracy\"] = (1 - df_fractal_subclades[\"NRFD\"]) * 100\n",
    "df_fractal_subclades[\"Category\"] = \"fractal_1_node\"\n",
    "df_fractal_subclades"
   ],
   "outputs": [],
   "metadata": {}
  },
  {
   "cell_type": "code",
   "execution_count": null,
   "source": [
    "df_original_subclades = pd.read_csv(\"/Users/nk/Documents/backupped/Research/YachieLabLocal/FRACTAL/data/NK_0149/result/result.original.subclades.txt\", names = [\"Memory_mafft\",\"Mem_unit_mafft\",\"Time_mafft\",\"Time_unit_mafft\",\"TASK_ID\",\"SUBCLADE_ID\",\"Method\",\"ignore\", \"Memory\",\"Mem_unit\",\"Time\",\"Time_unit\",\"Ntips\",\"NRFD\"])\n",
    "df_original_subclades = df_original_subclades.drop(columns = [\"ignore\"])\n",
    "#df_original_subclades[\"Coverage\"] = df_original_subclades[\"Ntips\"] /  df_original_subclades[\"Nseq\"] * 100\n",
    "df_original_subclades[\"Accuracy\"] = (1 - df_original_subclades[\"NRFD\"]) * 100\n",
    "df_original_subclades[\"Time\"]     = df_original_subclades[\"Time\"] + df_original_subclades[\"Time_mafft\"]\n",
    "df_original_subclades[\"Category\"] = \"original_1_node\"\n",
    "df_original_subclades"
   ],
   "outputs": [],
   "metadata": {}
  },
  {
   "cell_type": "code",
   "execution_count": null,
   "source": [
    "df_subclades = pd.concat([df_fractal_subclades, df_original_subclades,df_fractal_all_mean])\n",
    "df_subclades = df_subclades[(df_subclades[\"Time\"]< 86400) & (df_subclades[\"Ntips\"]>3000)]\n",
    "\n",
    "for method in [\"rapidnjNJ\", \"raxmlMP\", \"fasttreeML\"]:\n",
    "    df_subclades_ext = df_subclades[df_subclades[\"Method\"] == method]\n",
    "    fig=plt.figure(figsize=(2.2,1.8))\n",
    "    ax = fig.add_axes([0.1,0.1,0.8,0.8])\n",
    "    df_subclades_ext_original = df_subclades_ext[df_subclades_ext[\"Category\"] == \"original_1_node\"]\n",
    "    df_subclades_ext_fractal_1node     = df_subclades_ext[df_subclades_ext[\"Category\"] == \"fractal_1_node\"]\n",
    "    df_subclades_ext_fractal_100nodes  = df_subclades_ext[df_subclades_ext[\"Category\"] == \"fractal_100_nodes\"]\n",
    "\n",
    "    ax.scatter(x = df_subclades_ext_fractal_1node[\"Ntips\"], y = df_subclades_ext_fractal_1node   [\"Accuracy\"], color = \"#88C9D4\", s = 20)\n",
    "    ax.scatter(x = df_subclades_ext_fractal_100nodes[\"Ntips\"], y = df_subclades_ext_fractal_100nodes[\"Accuracy\"], color = '#7F33FF', s = 20)\n",
    "    ax.scatter(x = df_subclades_ext_original[\"Ntips\"], y = df_subclades_ext_original[\"Accuracy\"], color = \"#F8D686\", s = 5)\n",
    "\n",
    "    ax.set_xlim(3000,1200000)\n",
    "    ax.set_xscale(\"log\")\n",
    "    ax.set_ylim(70,101)\n",
    "    ax.spines[\"top\"].set_color(\"none\")\n",
    "    ax.spines[\"right\"].set_color(\"none\")\n",
    "    ax.set_xlabel(\"#tips of reconstructed tree\")\n",
    "    ax.set_ylabel(\"Accuracy (%)\")\n",
    "    ax.set_title(method)\n",
    "    plt.savefig('figures/NK_0149_subclades_'+method+'.pdf',bbox_inches='tight')\n",
    "    plt.close()"
   ],
   "outputs": [],
   "metadata": {}
  },
  {
   "cell_type": "code",
   "execution_count": null,
   "source": [
    "for method in [\"rapidnj\", \"raxmlmp\", \"fasttreeml\"]:\n",
    "\n",
    "    df_time = pd.read_table(\"/Users/nk/Documents/backupped/Research/YachieLabLocal/FRACTAL/data/NK_0149/result/node_count.\"+method+\".1.txt\", names = [\"date\", \"date_sec\", \"running\", \"running+waiting\"])\n",
    "    df_time[\"run_time\"] = df_time['date_sec'] - list(df_time['date_sec'])[0]\n",
    "    df_time = df_time[df_time[\"running+waiting\"]>0]\n",
    "    print(df_time.max())\n",
    "\n",
    "\n",
    "    fig = plt.figure(figsize=(2,1.8))\n",
    "    ax = fig.add_axes([0.1,0.1,0.8,0.8])\n",
    "    #sns.lineplot(data=df, x=\"run_time\", y=\"running+waiting\", label = 'running + waiting')\n",
    "    #sns.lineplot(data=df, x=\"run_time\", y=\"running\",label='running')\n",
    "\n",
    "    x=list(df_time['run_time'])\n",
    "\n",
    "    plt.stackplot(x,df_time[\"running+waiting\"], color = \"#7638F5\", alpha=1 )\n",
    "    plt.stackplot(x,df_time['running'], color = \"#A57FF9\", alpha=1 )\n",
    "\n",
    "    #ax.set_xlim(0,120000)\n",
    "    ax.set_xlabel(\"Time (sec)\")\n",
    "    ax.set_ylabel(\"Number of computing\\nnodes used\")\n",
    "    ax.set_title(method)\n",
    "    plt.gca().spines['right'].set_visible(False)\n",
    "    plt.gca().spines['top'].set_visible(False)\n",
    "    plt.savefig(\"figures/NK_0149_time_node.\"+method+\".pdf\", bbox_inches='tight')\n",
    "    #plt.show()\n",
    "    plt.close()"
   ],
   "outputs": [],
   "metadata": {}
  },
  {
   "cell_type": "code",
   "execution_count": null,
   "source": [
    "df_time"
   ],
   "outputs": [],
   "metadata": {}
  },
  {
   "cell_type": "code",
   "execution_count": null,
   "source": [],
   "outputs": [],
   "metadata": {}
  }
 ]
}