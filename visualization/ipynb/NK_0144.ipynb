{
 "cells": [
  {
   "cell_type": "code",
   "execution_count": null,
   "source": [
    "from matplotlib import pyplot as plt\n",
    "import matplotlib as mpl\n",
    "import numpy as np\n",
    "import pandas as pd\n",
    "from scipy import stats\n",
    "import seaborn as sns\n",
    "import os\n",
    "from contextlib import redirect_stderr"
   ],
   "outputs": [],
   "metadata": {}
  },
  {
   "cell_type": "code",
   "execution_count": null,
   "source": [
    "mpl.rcParams['font.family']       = 'Helvetica'\n",
    "mpl.rcParams['font.sans-serif']   = [\"Helvetica\",\"Arial\",\"DejaVu Sans\",\"Lucida Grande\",\"Verdana\"]\n",
    "mpl.rcParams['figure.figsize']    = [4,3]\n",
    "mpl.rcParams['font.size']         = 9\n",
    "mpl.rcParams[\"axes.labelcolor\"]   = \"#000000\"\n",
    "mpl.rcParams[\"axes.linewidth\"]    = 1.0 \n",
    "mpl.rcParams[\"xtick.major.width\"] = 1.0\n",
    "mpl.rcParams[\"ytick.major.width\"] = 1.0\n",
    "cmap1 = plt.cm.tab10\n",
    "cmap2 = plt.cm.Set3  \n",
    "colors1 = [cmap1(i) for i in range(0,10)]\n",
    "colors2 = [cmap2(i) for i in range(0,12)] \n",
    "plt.style.use('default')\n",
    "colors_original_vs_FRACTAL=['#FFD479', '#73CBD6', '#7F33FF']\n",
    "colors2 = [cmap2(i) for i in range(0,12)] "
   ],
   "outputs": [],
   "metadata": {}
  },
  {
   "cell_type": "code",
   "execution_count": null,
   "source": [
    "os.chdir(\"/Users/nk/Documents/backupped/Research/YachieLabLocal/FRACTAL/data/NK_0144\")\n",
    "try:\n",
    "    os.mkdir(\"figures\")\n",
    "except:\n",
    "    None"
   ],
   "outputs": [],
   "metadata": {}
  },
  {
   "cell_type": "code",
   "execution_count": null,
   "source": [
    "def cilen(arr, alpha=0.95):\n",
    "    if len(arr) <= 1:\n",
    "        return 0\n",
    "    m, e, df = np.mean(arr), stats.sem(arr), len(arr) - 1\n",
    "    interval = stats.t.interval(alpha, df, loc=m, scale=e)\n",
    "    cilen = np.max(interval) - np.mean(interval)\n",
    "    return cilen"
   ],
   "outputs": [],
   "metadata": {}
  },
  {
   "cell_type": "code",
   "execution_count": null,
   "source": [
    "df_accuracy = pd.read_csv(\"/Users/nk/Documents/backupped/Research/YachieLabLocal/FRACTAL/data/NK_0144/result/accuracy.all.csv\", names=['method', 'TASK_ID', 'Nseq', 'rep', 'treemethod', 'threshold', 'Ntips','NRFD'])\n",
    "df_accuracy = df_accuracy.replace('Error', np.nan)\n",
    "\n",
    "df_accuracy['Coverage'] = df_accuracy['Ntips'].astype('float') / df_accuracy['Nseq'] \n",
    "df_accuracy['Accuracy'] = (1 - df_accuracy['NRFD'].astype(float))\n",
    "df_accuracy['Recovery'] = df_accuracy['Coverage'] * df_accuracy['Accuracy']*100\n",
    "df_accuracy = df_accuracy.sort_values('treemethod', kind='mergesort').sort_values('rep', kind='mergesort').sort_values('Nseq', kind='mergesort').sort_values('method', kind='mergesort')\n",
    "df_accuracy"
   ],
   "outputs": [],
   "metadata": {
    "scrolled": true
   }
  },
  {
   "cell_type": "code",
   "execution_count": null,
   "source": [
    "df_runtime_memory = pd.read_csv(\"/Users/nk/Documents/backupped/Research/YachieLabLocal/FRACTAL/data/NK_0144/result/runtime_memory.all.manual.csv\")\n",
    "df_runtime_memory = df_runtime_memory.sort_values('treemethod', kind='mergesort').sort_values('rep', kind='mergesort').sort_values('Nseq', kind='mergesort').sort_values('method', kind='mergesort')\n",
    "df_runtime_memory"
   ],
   "outputs": [],
   "metadata": {}
  },
  {
   "cell_type": "code",
   "execution_count": null,
   "source": [
    "list(df_accuracy['Nseq']) == list(df_runtime_memory['Nseq'])"
   ],
   "outputs": [],
   "metadata": {}
  },
  {
   "cell_type": "code",
   "execution_count": null,
   "source": [
    "list(df_accuracy['rep']) == list(df_runtime_memory['rep'])"
   ],
   "outputs": [],
   "metadata": {}
  },
  {
   "cell_type": "code",
   "execution_count": null,
   "source": [
    "list(df_accuracy['method']) == list(df_runtime_memory['method'])"
   ],
   "outputs": [],
   "metadata": {}
  },
  {
   "cell_type": "code",
   "execution_count": null,
   "source": [
    "df_all = df_runtime_memory\n",
    "df_all['Recovery'] = list(df_accuracy['Recovery'])\n",
    "df_all['Accuracy'] = list(df_accuracy['Accuracy']*100)\n",
    "df_all['Ntips'] = list(df_accuracy['Ntips'])\n",
    "df_all"
   ],
   "outputs": [],
   "metadata": {}
  },
  {
   "cell_type": "code",
   "execution_count": null,
   "source": [
    "for value, ylabel in [(\"Accuracy\", \"Accuracy (%)\"), (\"RunTime\", 'Run time (sec)'), (\"SingleMemory\",'Max memory usage\\nper node (KB)')]:\n",
    "#value = \"Recovery\"\n",
    "#ylabel = \"Recovery ratio (%)\"\n",
    "    for treemethod, title in [(\"rapidnjNJ\", \"NJ (RapidNJ)\"), (\"raxmlMP\", \"MP (RAxML)\"), (\"fasttreeML\",\"ML (FastTree)\")]:\n",
    "        \n",
    "        df_treemethod = df_all[\n",
    "            (df_all['treemethod']==treemethod) &\n",
    "            (~df_all['Ntips'].isnull())\n",
    "            ]\n",
    "\n",
    "\n",
    "        # make pivot table\n",
    "\n",
    "        with redirect_stderr(open(os.devnull, 'w')):\n",
    "            m = df_treemethod.pivot_table(index='Ntips', columns='method', values=value, aggfunc='mean') # index='Ntips'なので系譜推定できている条件しか拾わない\n",
    "            e = df_treemethod.pivot_table(index='Ntips', columns='method', values=value, aggfunc=cilen)\n",
    "\n",
    "        \n",
    "        # Visualize\n",
    "\n",
    "        fig = plt.figure(figsize=(1.9,2.5))\n",
    "        ax = fig.add_axes([0.1,0.1,0.8,0.8])\n",
    "\n",
    "        methods     = [\"original\", \"fractal1node\", \"fractal100nodes\"]\n",
    "        m1 = m.loc[:,methods]\n",
    "        if (value==\"RunTime\"): m1.plot(ax=ax,kind='bar', width=0.85, ylim=[1,1000000], logy=True, legend=False,yerr=e,capsize=1,error_kw={\"elinewidth\":0.4, \"capthick\":0.4},label='',color=colors_original_vs_FRACTAL,linewidth=0.4,edgecolor='black',)\n",
    "        elif (value==\"SingleMemory\"): m1.plot(ax=ax,kind='bar', width=0.80, ylim=[10000,40000000], logy=True, legend=False,yerr=e,capsize=1,error_kw={\"elinewidth\":0.4, \"capthick\":0.4},label='',color=colors_original_vs_FRACTAL,linewidth=0.4, edgecolor='black',)\n",
    "        elif (value==\"Accuracy\"): m1.plot(ax=ax,kind='bar', width=0.85, ylim=[99,100.05], legend=False,yerr=e,capsize=1,error_kw={\"elinewidth\":0.4, \"capthick\":0.4},label='',color=colors_original_vs_FRACTAL,linewidth=0.4, edgecolor='black',)\n",
    "        elif (value==\"Coverage\"): m1.plot(ax=ax,kind='bar', width=0.85, ylim=[0,1.05], legend=False,yerr=e,capsize=1,error_kw={\"elinewidth\":0.4, \"capthick\":0.4},label='',color=colors_original_vs_FRACTAL,linewidth=0.4, edgecolor='black',)\n",
    "\n",
    "        sns.stripplot(data = df_treemethod, x = \"Nseq\", y = value, hue = \"method\", hue_order=methods, dodge=True, size = 1, color = \"#AAAAAA\", jitter = 0.3)\n",
    "        ax.get_legend().remove()\n",
    "\n",
    "        ax.set_title(title,pad=10,fontsize=10)\n",
    "        ax.set_xlabel('')\n",
    "        ax.set_xticklabels(['1,024','16,384','262,144','4,194,304'])\n",
    "        ax.set_ylabel(ylabel,fontsize=10)\n",
    "        plt.savefig(\"figures/NK_0144_\"+ value +\"_\" +treemethod +\".pdf\", bbox_inches='tight')\n",
    "        #plt.show()\n",
    "        plt.close()"
   ],
   "outputs": [],
   "metadata": {}
  },
  {
   "cell_type": "code",
   "execution_count": null,
   "source": [
    "for treemethod in [\"rapidnjNJ\", \"raxmlMP\", \"fasttreeML\"]:\n",
    "    for target in [\"RunTime\"]:\n",
    "        for Nseq in [16384, 262144, 4194304]:\n",
    "            df_treemethod = df_all[df_all['treemethod']==treemethod]\n",
    "\n",
    "            df_fractal_parallel = df_treemethod[(df_treemethod[\"method\"] == \"fractal100nodes\") & (df_treemethod[\"Nseq\"]==Nseq)]\n",
    "            df_fractal_single   = df_treemethod[(df_treemethod[\"method\"] == \"fractal1node\")    & (df_treemethod[\"Nseq\"]==Nseq)]\n",
    "            df_merge = pd.merge(df_fractal_single, df_fractal_parallel, on = 'rep')\n",
    "            test_result = stats.ttest_rel(df_merge[target+\"_x\"], df_merge[target+\"_y\"])\n",
    "\n",
    "            onenode_to_handrednodes_averatio = np.mean(df_merge[target+\"_x\"]) / np.mean(df_merge[target+\"_y\"])\n",
    "\n",
    "            print(treemethod, target, Nseq, \"1 node / 100 nodes\", onenode_to_handrednodes_averatio, \"times\", \"p=\", test_result.pvalue, sep = \",\")"
   ],
   "outputs": [],
   "metadata": {}
  },
  {
   "cell_type": "code",
   "execution_count": null,
   "source": [
    "for treemethod in [\"rapidnjNJ\", \"raxmlMP\", \"fasttreeML\"]:\n",
    "    for target in [\"SingleMemory\"]:\n",
    "        for Nseq in [16384, 262144, 4194304]:\n",
    "            df_treemethod = df_all[df_all['treemethod']==treemethod]\n",
    "\n",
    "            df_original = df_treemethod[(df_treemethod[\"method\"] == \"original\") & (df_treemethod[\"Nseq\"]==Nseq)]\n",
    "            df_fractal_single = df_treemethod[(df_treemethod[\"method\"] == \"fractal1node\") & (df_treemethod[\"Nseq\"]==Nseq)]\n",
    "            df_merge = pd.merge(df_original, df_fractal_single, on = 'rep')\n",
    "            test_result = stats.ttest_rel(df_merge[target+\"_x\"], df_merge[target+\"_y\"])\n",
    "\n",
    "            onenode_to_handrednodes_averatio = np.mean(df_merge[target+\"_y\"]) / np.mean(df_merge[target+\"_x\"])\n",
    "\n",
    "            print(treemethod, target, Nseq, \"fractal / original\", onenode_to_handrednodes_averatio, \"times\", \"p=\", test_result.pvalue, sep = \",\")"
   ],
   "outputs": [],
   "metadata": {}
  }
 ],
 "metadata": {
  "kernelspec": {
   "name": "fractal",
   "display_name": "fractal",
   "language": "python"
  },
  "language_info": {
   "codemirror_mode": {
    "name": "ipython",
    "version": 3
   },
   "file_extension": ".py",
   "mimetype": "text/x-python",
   "name": "python",
   "nbconvert_exporter": "python",
   "pygments_lexer": "ipython3",
   "version": "3.9.1"
  }
 },
 "nbformat": 4,
 "nbformat_minor": 2
}