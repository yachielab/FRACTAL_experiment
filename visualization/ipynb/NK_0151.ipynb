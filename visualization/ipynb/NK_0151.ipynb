{
 "cells": [
  {
   "cell_type": "code",
   "execution_count": null,
   "source": [
    "import os\n",
    "import sys \n",
    "from Bio import SeqIO, Phylo\n",
    "import random\n",
    "import matplotlib.pyplot as plt\n",
    "import matplotlib as mpl\n",
    "import seaborn as sns\n",
    "import pandas as pd\n",
    "import numpy as np"
   ],
   "outputs": [],
   "metadata": {}
  },
  {
   "cell_type": "code",
   "execution_count": null,
   "source": [
    "os.chdir(\"/Users/nk/Documents/backupped/Research/YachieLabLocal/FRACTAL/data/NK_0151\")\n",
    "\n",
    "dirname_list = [\"fasta\", \"figures\", \"newick\"]\n",
    "for dirname in dirname_list:\n",
    "    try:\n",
    "        os.mkdir(dirname)\n",
    "    except:\n",
    "        None"
   ],
   "outputs": [],
   "metadata": {}
  },
  {
   "cell_type": "code",
   "execution_count": null,
   "source": [
    "inhandle  = open(\"/Users/nk/Documents/backupped/Research/YachieLabLocal/FRACTAL/data/NK_0151/fasta/LTPs132_SSU_aligned.fasta.trim.dereplicated.fractalin.fa\", 'r')\n",
    "outhandle = open(\"/Users/nk/Documents/backupped/Research/YachieLabLocal/FRACTAL/data/NK_0151/fasta/LTPs132_SSU_aligned.fasta.trim.dereplicated.fractalin.shuffled.fa\", 'w')\n",
    "\n",
    "for record in SeqIO.parse(inhandle, 'fasta'):\n",
    "    sequence        = str(record.seq)\n",
    "    name            = record.name\n",
    "    sequence_no_gap = sequence.replace('-', '')\n",
    "    random_char_list_no_gap = random.sample(sequence_no_gap, len(sequence_no_gap))\n",
    "\n",
    "    sequence_random = \"\"\n",
    "    for char in sequence:\n",
    "        if(char == '-'):\n",
    "            sequence_random += char\n",
    "        else:\n",
    "            sequence_random += random_char_list_no_gap.pop()\n",
    "    \n",
    "    outhandle.write(\">\"+name+\"_random\"+\"\\n\"  )\n",
    "    outhandle.write(sequence_random)\n",
    "    outhandle.write(\"\\n\"           )"
   ],
   "outputs": [],
   "metadata": {}
  },
  {
   "cell_type": "code",
   "execution_count": null,
   "source": [
    "mpl.rcParams['font.family']       = 'Helvetica'\n",
    "mpl.rcParams['font.sans-serif']   = [\"Helvetica\",\"Arial\",\"DejaVu Sans\",\"Lucida Grande\",\"Verdana\"]\n",
    "mpl.rcParams['figure.figsize']    = [4,3]\n",
    "mpl.rcParams['font.size']         = 9\n",
    "mpl.rcParams[\"axes.labelcolor\"]   = \"#000000\"\n",
    "mpl.rcParams[\"axes.linewidth\"]    = 1.0 \n",
    "mpl.rcParams[\"xtick.major.width\"] = 1.0\n",
    "mpl.rcParams[\"ytick.major.width\"] = 1.0\n",
    "cmap1 = plt.cm.tab10\n",
    "cmap2 = plt.cm.Set3  \n",
    "colors1 = [cmap1(i) for i in range(0,10)]\n",
    "colors2 = [cmap2(i) for i in range(0,12)] \n",
    "plt.style.use('default')"
   ],
   "outputs": [],
   "metadata": {}
  },
  {
   "cell_type": "code",
   "execution_count": null,
   "source": [
    "df_result = pd.read_csv(\"/Users/nk/Documents/backupped/Research/YachieLabLocal/FRACTAL/data/NK_0151/result/NK_0151_result.csv\", names = ['TASK_ID', 'Method', 'Nseq', 'Subsample', 'Threshold', 'Memory', 'Mem_unit', 'Time', 'Time_unit', 'Ntips', 'NRFD'])\n",
    "df_result['Coverage'] = df_result['Ntips'] / 13896\n",
    "df_result['Accuracy'] = 1 - df_result['NRFD']\n",
    "df_result['add_ratio'] = (df_result['Nseq'] - 13897) / 13897\n",
    "df_result"
   ],
   "outputs": [],
   "metadata": {}
  },
  {
   "cell_type": "code",
   "execution_count": null,
   "source": [
    "df_result[df_result['Threshold']==100000].groupby('Method').mean()"
   ],
   "outputs": [],
   "metadata": {}
  },
  {
   "cell_type": "code",
   "execution_count": null,
   "source": [
    "for method in ['rapidnjNJ', 'raxmlMP', 'fasttreeML']:\n",
    "\n",
    "    df_result_original = df_result[(df_result['Method']==method) & (df_result['Threshold']==100000)]\n",
    "    df_result_fractal  = df_result[(df_result['Method']==method) & (df_result['Threshold']==4000)]\n",
    "\n",
    "\n",
    "    fig=plt.figure(figsize=(2,2))\n",
    "    ax = fig.add_axes([0.1,0.1,0.8,0.8])\n",
    "    ax.scatter(x = df_result_fractal['add_ratio']*100,  y = df_result_fractal ['Accuracy']*100, color = \"#88C9D4\", s = 40)\n",
    "    ax.scatter(x = df_result_original['add_ratio']*100, y = df_result_original['Accuracy']*100, color = \"#F8D686\", s = 10)\n",
    "    \n",
    "    ax.set_xlim(-1,25)\n",
    "    ax.set_ylim(0,60)\n",
    "\n",
    "    ax.set_xlabel(\"Additional noise ratio (%)\")\n",
    "    ax.set_ylabel(\"Accuracy (%)\")\n",
    "    ax.set_title(method)\n",
    "\n",
    "    plt.savefig(\"figures/NK_0151_noise_effect_\"+method+\".pdf\", bbox_inches = 'tight')\n",
    "    plt.close()"
   ],
   "outputs": [],
   "metadata": {}
  },
  {
   "cell_type": "code",
   "execution_count": null,
   "source": [
    "tree = Phylo.read(\"/Users/nk/Documents/backupped/Research/YachieLabLocal/FRACTAL/data/NK_0151/result/TASK_33_FRACTALout.nwk\", 'newick')\n",
    "with open(\"figures/for_itol.txt\" ,'w') as handle:\n",
    "    handle.write(\"DATASET_SYMBOL\\nSEPARATOR SPACE\\nDATASET_LABEL ko:K00001\\nCOLOR #ffff00\\nDATA\\n\")\n",
    "    for tip in tree.get_terminals():\n",
    "        name = tip.name\n",
    "        if (name.split(\"_\")[-1]=='random'):\n",
    "            handle.write(name + \" 2 2 \" + \"rgba(256,200,0,0.8) 1 1 \" + name + \"\\n\")"
   ],
   "outputs": [],
   "metadata": {}
  },
  {
   "cell_type": "code",
   "execution_count": null,
   "source": [
    "classification_rate_list = []\n",
    "for taskid in range(1, 37):\n",
    "    tree = Phylo.read(\"/Users/nk/Documents/backupped/Research/YachieLabLocal/FRACTAL/data/NK_0151/result/TASK_ID\"+str(taskid)+\"_FRACTALout.nwk\", 'newick')\n",
    "\n",
    "    # label nonterminals\n",
    "    for i, node in enumerate(tree.get_nonterminals()):\n",
    "        node.name = \"internal\"+str(i)\n",
    "\n",
    "    # node > (Ntips_16S, Ntips_noise)\n",
    "    node2Ntips = {}\n",
    "\n",
    "    for tip in tree.get_terminals():\n",
    "        is_noise = (tip.name).split(\"_\")[-1]=='random'\n",
    "        if (is_noise):\n",
    "            node2Ntips[tip.name] = np.array([0, 1])\n",
    "        else:\n",
    "            node2Ntips[tip.name] = np.array([1, 0])\n",
    "\n",
    "    nonterminal_list = tree.get_nonterminals()\n",
    "    while len(nonterminal_list) > 0:\n",
    "        nonterminal = nonterminal_list.pop()\n",
    "        Ntips_child0 = node2Ntips[nonterminal.clades[0].name]\n",
    "        Ntips_child1 = node2Ntips[nonterminal.clades[1].name]\n",
    "        node2Ntips[nonterminal.name] = np.array([Ntips_child0[0] + Ntips_child1[0], Ntips_child0[1] + Ntips_child1[1]])\n",
    "\n",
    "    node_classifyratio_list = []\n",
    "    for key in node2Ntips.keys():\n",
    "        Ntip_array            = node2Ntips[key]\n",
    "        Ntip_array_the_other  = node2Ntips[tree.clade.name] - node2Ntips[key]\n",
    "        node_classifyratio    = (Ntip_array[0] + Ntip_array_the_other[1]) / (sum(Ntip_array) + sum(Ntip_array_the_other))\n",
    "        node_classifyratio_list.append({\"name\":key, \"ClassificationRatio\":max(node_classifyratio, 1 - node_classifyratio)})\n",
    "\n",
    "    classification_rate_list.append([taskid, sorted(node_classifyratio_list, key=lambda x:x['ClassificationRatio'])[-1]['ClassificationRatio']])"
   ],
   "outputs": [],
   "metadata": {}
  },
  {
   "cell_type": "code",
   "execution_count": null,
   "source": [
    "df_classification_rate = pd.DataFrame(classification_rate_list, columns = ['TASK_ID', 'ClassificationRatio'])"
   ],
   "outputs": [],
   "metadata": {}
  },
  {
   "cell_type": "code",
   "execution_count": null,
   "source": [
    "df_merged = pd.merge(df_result, df_classification_rate, on = 'TASK_ID')\n",
    "df_merged"
   ],
   "outputs": [],
   "metadata": {}
  },
  {
   "cell_type": "code",
   "execution_count": null,
   "source": [
    "for method in ['rapidnjNJ', 'raxmlMP', 'fasttreeML']:\n",
    "\n",
    "    df_result_original = df_merged[(df_result['Method']==method) & (df_merged['Threshold']==100000)]\n",
    "    df_result_fractal  = df_merged[(df_merged['Method']==method) & (df_merged['Threshold']==4000)]\n",
    "\n",
    "\n",
    "    fig=plt.figure(figsize=(2,2))\n",
    "    ax = fig.add_axes([0.1,0.1,0.8,0.8])\n",
    "    ax.scatter(x = df_result_fractal['add_ratio']*100,  y = df_result_fractal ['ClassificationRatio']*100, color = \"#88C9D4\", s = 40)\n",
    "    ax.scatter(x = df_result_original['add_ratio']*100, y = df_result_original['ClassificationRatio']*100, color = \"#F8D686\", s = 10)\n",
    "    \n",
    "    ax.set_xlim(0,25)\n",
    "    ax.set_ylim(0,105)\n",
    "\n",
    "    ax.set_xlabel(\"Additional noise ratio (%)\")\n",
    "    ax.set_ylabel(\"Classification rate (%)\")\n",
    "    ax.set_title(method)\n",
    "\n",
    "    plt.savefig(\"figures/NK_0151_classification_ratio_\"+method+\".pdf\", bbox_inches = 'tight')\n",
    "    plt.close()"
   ],
   "outputs": [],
   "metadata": {}
  },
  {
   "cell_type": "code",
   "execution_count": null,
   "source": [
    "# tree branch coloring\n",
    "classification_rate_list = []\n",
    "for taskid in range(1, 37):\n",
    "    tree = Phylo.read(\"/Users/nk/Documents/backupped/Research/YachieLabLocal/FRACTAL/data/NK_0151/result/TASK_ID\"+str(taskid)+\"_FRACTALout.nwk\", 'newick')\n",
    "\n",
    "    # label nonterminals\n",
    "    for i, node in enumerate(tree.get_nonterminals()):\n",
    "        node.name = \"node\"+str(i)+\"internal\"\n",
    "        node.confidence = None\n",
    "        node.branch_length = 1\n",
    "    for i, node in enumerate(tree.get_terminals()):\n",
    "        node.name = (node.name).replace(\"_\", \"\")\n",
    "        node.confidence = None\n",
    "        node.branch_length = 1\n",
    "        \n",
    "\n",
    "    Phylo.write(tree, \"/Users/nk/Documents/backupped/Research/YachieLabLocal/FRACTAL/data/NK_0151/newick/TASK_ID\"+str(taskid)+\"_FRACTALout.internal_named.nwk\", 'newick')\n",
    "\n",
    "    # node > (Ntips_16S, Ntips_noise)\n",
    "    node2Ntips = {}\n",
    "\n",
    "    for tip in tree.get_terminals():\n",
    "        is_noise = ('random' in tip.name)\n",
    "        if (is_noise):\n",
    "            node2Ntips[tip.name] = np.array([0, 1])\n",
    "        else:\n",
    "            node2Ntips[tip.name] = np.array([1, 0])\n",
    "\n",
    "    nonterminal_list = tree.get_nonterminals()\n",
    "    while len(nonterminal_list) > 0:\n",
    "        nonterminal = nonterminal_list.pop()\n",
    "        Ntips_child0 = node2Ntips[nonterminal.clades[0].name]\n",
    "        Ntips_child1 = node2Ntips[nonterminal.clades[1].name]\n",
    "        node2Ntips[nonterminal.name] = np.array([Ntips_child0[0] + Ntips_child1[0], Ntips_child0[1] + Ntips_child1[1]])\n",
    "\n",
    "    parent_clade_noiseratio = []\n",
    "    for clade in tree.get_nonterminals():\n",
    "        for child in clade.clades:\n",
    "            key = child.name\n",
    "            Ntip_array            = node2Ntips[key]\n",
    "            Ntip_array_the_other  = node2Ntips[tree.clade.name] - node2Ntips[key]\n",
    "            noise_ratio           = max(Ntip_array[1] / sum(Ntip_array), Ntip_array_the_other[1] / sum(Ntip_array_the_other))\n",
    "            parent_clade_noiseratio.append((clade.name, child.name, noise_ratio))\n",
    "\n",
    "    cm_name='inferno'# B->G->R\n",
    "    cm = plt.get_cmap(cm_name)\n",
    "\n",
    "    with open(\"figures/for_itol_TASK_ID\"+str(taskid)+\".txt\",'w') as handle:\n",
    "        handle.write(\"TREE_COLORS\\nSEPARATOR TAB\\nDATASET_LABEL\\t\"+str(taskid)+\"\\nCOLOR\\t#FF9300\\nDATA\\n\")\n",
    "        for parent_name, name, noise_ratio in parent_clade_noiseratio:\n",
    "            color_idx   = int(noise_ratio * 255)\n",
    "            color_vec   = cm(color_idx)\n",
    "            r_idx       = int(color_vec[0] * 255)\n",
    "            g_idx       = int(color_vec[1] * 255)\n",
    "            b_idx       = int(color_vec[2] * 255)\n",
    "            if noise_ratio==1:\n",
    "                handle.write(str(name) + \"\\tclade\\t\" + \"#F7C845\\tnormal\\n\")"
   ],
   "outputs": [],
   "metadata": {}
  },
  {
   "cell_type": "code",
   "execution_count": null,
   "source": [
    "with open(\"figures/for_itol_TASK_ID\"+str(taskid)+\".txt\",'w') as handle:\n",
    "    handle.write(\"TREE_COLORS\\nSEPARATOR TAB\\nDATASET_LABEL\\t\"+str(taskid)+\"\\nCOLOR\\t#ffff00\\nDATA\\n\")\n",
    "    for parent_name, name, noise_ratio in parent_clade_noiseratio:\n",
    "        color_idx   = int(noise_ratio * 255)\n",
    "        color_vec   = cm(color_idx)\n",
    "        r_idx       = int(color_vec[0] * 255)\n",
    "        g_idx       = int(color_vec[1] * 255)\n",
    "        b_idx       = int(color_vec[2] * 255)\n",
    "        if noise_ratio==1:\n",
    "            handle.write(str(name) + \"\\tclade\\t\" + \"#FF9300\\tnormal\\n\")\n",
    "        #else:\n",
    "        #    handle.write(str(parent_name) + \"|\" + str(name) + \"\\tbranch\\t\" + \"rgba(\"+str(r_idx)+\",\"+str(g_idx)+\",\"+str(b_idx)+\",1)\\tnormal\\n\")\n",
    "            \n",
    "        #handle.write(str(parent_name) + \"|\" + str(name) + \"\\tbranch\\t\" + \"rgba(\"+str(r_idx)+\",\"+str(g_idx)+\",\"+str(b_idx)+\",1)\\tnormal\\n\")"
   ],
   "outputs": [],
   "metadata": {}
  },
  {
   "cell_type": "code",
   "execution_count": null,
   "source": [],
   "outputs": [],
   "metadata": {}
  }
 ],
 "metadata": {
  "kernelspec": {
   "display_name": "fractal",
   "language": "python",
   "name": "fractal"
  },
  "language_info": {
   "codemirror_mode": {
    "name": "ipython",
    "version": 3
   },
   "file_extension": ".py",
   "mimetype": "text/x-python",
   "name": "python",
   "nbconvert_exporter": "python",
   "pygments_lexer": "ipython3",
   "version": "3.9.1"
  }
 },
 "nbformat": 4,
 "nbformat_minor": 2
}