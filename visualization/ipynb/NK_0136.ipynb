{
 "cells": [
  {
   "cell_type": "code",
   "execution_count": null,
   "source": [
    "from Bio import Phylo\n",
    "from matplotlib import pyplot as plt\n",
    "import matplotlib as mpl\n",
    "import numpy as np\n",
    "import os\n",
    "import statistics as stat\n",
    "import pandas as pd\n",
    "import seaborn as sns\n",
    "from sklearn.linear_model import LinearRegression"
   ],
   "outputs": [],
   "metadata": {}
  },
  {
   "cell_type": "code",
   "execution_count": null,
   "source": [
    "os.chdir(\"/Users/nk/Documents/backupped/Research/YachieLabLocal/FRACTAL/data/NK_0136\")\n",
    "\n",
    "dirname_list = [\"figures\"]\n",
    "for dirname in dirname_list:\n",
    "    try:\n",
    "        os.mkdir(dirname)\n",
    "    except:\n",
    "        None"
   ],
   "outputs": [],
   "metadata": {}
  },
  {
   "cell_type": "code",
   "execution_count": null,
   "source": [
    "#insertion\n",
    "y_line = 0.72239\n",
    "\n",
    "df = pd.read_csv(\"/Users/nk/Documents/backupped/Research/YachieLabLocal/FRACTAL/data/NK_0136/result.ins.2.txt\", sep = '\\t')\n",
    "fig = plt.figure(figsize=(2,2))\n",
    "ax = fig.add_axes([0.1,0.1,0.8,0.8])\n",
    "p = sns.regplot(\n",
    "    x=df['prob'], \n",
    "    y=df['TotalLength']/df['Nseq'] - 255,\n",
    "    ax=ax,\n",
    "    order=1,\n",
    "    ci=None, \n",
    "    n_boot=1000,\n",
    "    color=\"#1200EE\",\n",
    "    scatter_kws={\"s\": 5},\n",
    "    #logx=True,\n",
    "    truncate=False,\n",
    "    line_kws={\"linewidth\": 1.5}) \n",
    "x = np.linspace(min(df['prob']), max(df['prob']), 100)\n",
    "y = x*0+y_line\n",
    "ax.plot(x, y, color = \"#1200EE\", alpha=1, lw=1, linestyle='dashed')\n",
    "ax.set_xlim(0.001, 0.5)\n",
    "ax.set_ylim(0.05, 20)\n",
    "ax.set_xscale('log')\n",
    "ax.set_yscale('log')\n",
    "ax.set_xlabel(\"Prob. per chunk per gen.\")\n",
    "ax.set_ylabel(\"Average total length (bp)\")\n",
    "plt.savefig(\"figures/fig_insertion.pdf\", bbox_inches='tight')\n",
    "plt.close()"
   ],
   "outputs": [],
   "metadata": {}
  },
  {
   "cell_type": "code",
   "execution_count": null,
   "source": [
    "model_lr = LinearRegression()\n",
    "model_lr.fit(df[['prob']], df['TotalLength']/df['Nseq'] - 255)\n",
    "print('モデル関数の回帰変数 w1: %.3f' %model_lr.coef_)\n",
    "print('モデル関数の切片 w2: %.3f' %model_lr.intercept_)\n",
    "print('y= %.3fx + %.3f' % (model_lr.coef_ , model_lr.intercept_))\n",
    "#print('決定係数 R^2： ', df[['prob']], df['TotalLength']/df['Nseq'] - 255)"
   ],
   "outputs": [],
   "metadata": {}
  },
  {
   "cell_type": "code",
   "execution_count": null,
   "source": [
    "#deletion\n",
    "y_line = 99.487\n",
    "\n",
    "df = pd.read_csv(\"/Users/nk/Documents/backupped/Research/YachieLabLocal/FRACTAL/data/NK_0136/result.del.2.txt\", sep = '\\t')\n",
    "fig = plt.figure(figsize=(2,2))\n",
    "ax = fig.add_axes([0.1,0.1,0.8,0.8])\n",
    "p = sns.regplot(\n",
    "    x=df['prob'], \n",
    "    y=255-df['TotalLength']/df['Nseq'],\n",
    "    ax=ax,\n",
    "    order=3,\n",
    "    ci=None, \n",
    "    n_boot=1000,\n",
    "    color=\"#EA3323\",\n",
    "    scatter_kws={\"s\": 5},\n",
    "    #logx=True,\n",
    "    truncate=False,\n",
    "    line_kws={\"linewidth\": 1.5}) \n",
    "x = np.linspace(-1, 2, 100)\n",
    "y = x*0+y_line\n",
    "ax.plot(x, y, color = \"#EA3323\", alpha=1, lw=1, linestyle='dashed')\n",
    "\n",
    "ax.set_xlim(0, 1)\n",
    "#ax.set_xlim(0.32, 0.34)\n",
    "ax.set_ylim(0, 200)\n",
    "#ax.set_ylim(90, 110)\n",
    "ax.set_xlabel(\"Prob. per chunk per gen.\")\n",
    "ax.set_ylabel(\"Average total length (bp)\")\n",
    "#plt.savefig(\"figures/fig_deletion.pdf\", bbox_inches='tight')\n",
    "#plt.close()"
   ],
   "outputs": [],
   "metadata": {}
  },
  {
   "cell_type": "code",
   "execution_count": null,
   "source": [
    "# 各xに対する回帰曲線でのyの値\n",
    "xy = []\n",
    "for x, y in zip(p.get_lines()[0].get_xdata(), p.get_lines()[0].get_ydata()):\n",
    "    xy.append([x, y])\n",
    "np.array(xy)"
   ],
   "outputs": [],
   "metadata": {}
  }
 ],
 "metadata": {
  "kernelspec": {
   "display_name": "Python 3.9.1 64-bit",
   "language": "python",
   "name": "python391jvsc74a57bd0a1e5715f1a9b8bb34f63c3d966d40c5c588b4d4fc6358b5bb274d07955f54348"
  },
  "language_info": {
   "codemirror_mode": {
    "name": "ipython",
    "version": 3
   },
   "file_extension": ".py",
   "mimetype": "text/x-python",
   "name": "python",
   "nbconvert_exporter": "python",
   "pygments_lexer": "ipython3",
   "version": "3.9.1"
  }
 },
 "nbformat": 4,
 "nbformat_minor": 2
}