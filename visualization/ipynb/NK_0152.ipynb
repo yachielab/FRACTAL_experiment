{
 "cells": [
  {
   "cell_type": "code",
   "execution_count": null,
   "source": [
    "from Bio import Phylo, SeqIO\n",
    "from matplotlib import pyplot as plt\n",
    "import matplotlib as mpl\n",
    "import numpy as np\n",
    "import os\n",
    "import statistics as stat\n",
    "import pandas as pd\n",
    "import seaborn as sns\n",
    "import copy\n",
    "import matplotlib.colors as colors\n",
    "from matplotlib.colors import LinearSegmentedColormap\n",
    "import gzip"
   ],
   "outputs": [],
   "metadata": {}
  },
  {
   "cell_type": "code",
   "execution_count": null,
   "source": [
    "mpl.rcParams['font.family']       = 'Helvetica'\n",
    "mpl.rcParams['font.sans-serif']   = [\"Helvetica\",\"Arial\",\"DejaVu Sans\",\"Lucida Grande\",\"Verdana\"]\n",
    "mpl.rcParams['figure.figsize']    = [4,3]\n",
    "mpl.rcParams['font.size']         = 9\n",
    "mpl.rcParams[\"axes.labelcolor\"]   = \"#000000\"\n",
    "mpl.rcParams[\"axes.linewidth\"]    = 1.0 \n",
    "mpl.rcParams[\"xtick.major.width\"] = 1.0\n",
    "mpl.rcParams[\"ytick.major.width\"] = 1.0\n",
    "cmap1 = plt.cm.tab10\n",
    "cmap2 = plt.cm.Set3  \n",
    "colors1 = [cmap1(i) for i in range(0,10)]\n",
    "colors2 = [cmap2(i) for i in range(0,12)] \n",
    "plt.style.use('default')\n",
    "\n",
    "def generate_cmap(colors):\n",
    "    color_list = []\n",
    "    values = range(len(colors))\n",
    "    vmax   = int(np.max(values))\n",
    "    for v, c in enumerate(colors):\n",
    "        color_list.append( (v*1.0/ vmax, c) )\n",
    "    return LinearSegmentedColormap.from_list('custom_cmap', color_list)"
   ],
   "outputs": [],
   "metadata": {}
  },
  {
   "cell_type": "code",
   "execution_count": null,
   "source": [
    "os.chdir(\"/Users/konnonaoki/Documents/backupped/Research/YachieLabLocal/FRACTAL/data/NK_0152\")\n",
    "try:\n",
    "    os.mkdir(\"figures\")\n",
    "except:\n",
    "    None"
   ],
   "outputs": [],
   "metadata": {}
  },
  {
   "cell_type": "code",
   "execution_count": null,
   "source": [
    "experimentNo = \"PRESUME20212761\"\n",
    "\n",
    "df_result = pd.read_table(\"/Users/konnonaoki/Documents/backupped/Research/YachieLabLocal/FRACTAL/data/NK_0152/final/\"+experimentNo+\".results.txt\", names = [\"internal_node\", \"tip1\", \"tip2\", \"NHD\"])\n",
    "\n",
    "df_result"
   ],
   "outputs": [],
   "metadata": {}
  },
  {
   "cell_type": "code",
   "execution_count": null,
   "source": [
    "df_result_by_clade = df_result.groupby(\"internal_node\", as_index=0).mean()\n",
    "df_result_by_clade"
   ],
   "outputs": [],
   "metadata": {}
  },
  {
   "cell_type": "code",
   "execution_count": null,
   "source": [
    "fig = plt.figure(figsize=(3,3))\n",
    "ax = fig.add_axes([0.1,0.1,0.8,0.5])\n",
    "i=0\n",
    "ax.set_title(experimentNo)\n",
    "ax.set_xlabel(\"NHD\")\n",
    "ax.set_ylabel('#clades')\n",
    "#ax.set_xlim(left=0, right=1650) \n",
    "#ax.set_ylim(-5,105)\n",
    "ax.hist(df_result_by_clade[\"NHD\"], bins = 10)\n",
    "ax.spines[\"top\"].set_color(\"none\")\n",
    "ax.spines[\"right\"].set_color(\"none\")\n",
    "#ax.spines[\"bottom\"].set_color(\"none\")\n",
    "\n",
    "plt.savefig(\"figures/NHD_distribution.\"+str(experimentNo)+\".pdf\", bbox_inches=\"tight\")"
   ],
   "outputs": [],
   "metadata": {}
  },
  {
   "cell_type": "code",
   "execution_count": null,
   "source": [
    "for experimentNo in [\"PRESUME20212108\", \"PRESUME20212760\", \"PRESUME20212761\"]:\n",
    "\n",
    "    df_result = pd.read_table(\"/Users/konnonaoki/Documents/backupped/Research/YachieLabLocal/FRACTAL/data/NK_0152/final/\"+experimentNo+\".results.txt\", names = [\"internal_node\", \"tip1\", \"tip2\", \"NHD\"])\n",
    "    df_result_by_clade = df_result.groupby(\"internal_node\", as_index=0).mean()\n",
    "    fig = plt.figure(figsize=(3,3))\n",
    "    ax = fig.add_axes([0.1,0.1,0.8,0.5])\n",
    "    i=0\n",
    "    ax.set_title(experimentNo)\n",
    "    ax.set_xlabel(\"NHD\")\n",
    "    ax.set_ylabel('#clades')\n",
    "    #ax.set_xlim(left=0, right=1650)\n",
    "    #ax.set_ylim(-5,105)\n",
    "    ax.hist(df_result_by_clade[\"NHD\"], bins = 10)\n",
    "    ax.spines[\"top\"].set_color(\"none\")\n",
    "    ax.spines[\"right\"].set_color(\"none\")\n",
    "    #ax.spines[\"bottom\"].set_color(\"none\")\n",
    "\n",
    "    plt.savefig(\"figures/NHD_distribution.\"+str(experimentNo)+\".pdf\", bbox_inches=\"tight\")"
   ],
   "outputs": [],
   "metadata": {}
  },
  {
   "cell_type": "code",
   "execution_count": null,
   "source": [],
   "outputs": [],
   "metadata": {}
  }
 ],
 "metadata": {
  "kernelspec": {
   "display_name": "Python 3",
   "language": "python",
   "name": "python3"
  },
  "language_info": {
   "codemirror_mode": {
    "name": "ipython",
    "version": 3
   },
   "file_extension": ".py",
   "mimetype": "text/x-python",
   "name": "python",
   "nbconvert_exporter": "python",
   "pygments_lexer": "ipython3",
   "version": "3.9.5"
  }
 },
 "nbformat": 4,
 "nbformat_minor": 5
}