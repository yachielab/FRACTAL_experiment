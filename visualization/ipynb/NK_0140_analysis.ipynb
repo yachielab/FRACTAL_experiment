{
 "cells": [
  {
   "cell_type": "code",
   "execution_count": null,
   "source": [
    "import os\n",
    "import sys \n",
    "import matplotlib.pyplot as plt\n",
    "import matplotlib as mpl\n",
    "import seaborn as sns\n",
    "import pandas as pd\n",
    "import statistics\n",
    "import numpy as np"
   ],
   "outputs": [],
   "metadata": {}
  },
  {
   "cell_type": "code",
   "execution_count": null,
   "source": [
    "os.chdir(\"/Users/nk/Documents/backupped/Research/YachieLabLocal/FRACTAL/data/NK_0140\")\n",
    "\n",
    "dirname_list = [\"figures\"]\n",
    "for dirname in dirname_list:\n",
    "    try:\n",
    "        os.mkdir(dirname)\n",
    "    except:\n",
    "        None"
   ],
   "outputs": [],
   "metadata": {}
  },
  {
   "cell_type": "code",
   "execution_count": null,
   "source": [
    "mpl.rcParams['font.family']       = 'sans-serif'\n",
    "mpl.rcParams['font.sans-serif']   = [\"Helvetica\",\"Arial\",\"DejaVu Sans\",\"Lucida Grande\",\"Verdana\"]\n",
    "mpl.rcParams['figure.figsize']    = [4,3]\n",
    "mpl.rcParams['font.size']         = 10\n",
    "mpl.rcParams[\"axes.labelcolor\"]   = \"#000000\"\n",
    "mpl.rcParams[\"axes.linewidth\"]    = 1.0 \n",
    "mpl.rcParams[\"xtick.major.width\"] = 1.0\n",
    "mpl.rcParams[\"ytick.major.width\"] = 1.0\n",
    "cmap1 = plt.cm.tab10\n",
    "cmap2 = plt.cm.Set3  \n",
    "colors1 = [cmap1(i) for i in range(0,10)]\n",
    "colors2 = [cmap2(i) for i in range(0,12)] "
   ],
   "outputs": [],
   "metadata": {}
  },
  {
   "cell_type": "code",
   "execution_count": null,
   "source": [
    "df_algn = pd.read_csv(\n",
    "    \"/Users/nk/Documents/backupped/Research/YachieLabLocal/FRACTAL/data/NK_0140/result/result_algn.csv\", \n",
    "    header=None, \n",
    "    names = (\"scale\", \"Nchunks\", \"Threshold\", \"MaxMem\", \"MemUnit\", \"RunTime\", \"TimeUnit\", \"Ntips\", \"NRDF\"),\n",
    ")\n",
    "df_algn[\"Coverage\"] = df_algn[\"Ntips\"] / 4000\n",
    "df_algn[\"Accuracy\"] = 1- df_algn[\"NRDF\"]\n",
    "df_algn[\"RecovRatio\"] = df_algn[\"Coverage\"] * df_algn[\"Accuracy\"]  * 100\n",
    "df_algn"
   ],
   "outputs": [],
   "metadata": {}
  },
  {
   "cell_type": "code",
   "execution_count": null,
   "source": [
    "df_true = pd.read_csv(\n",
    "    \"/Users/nk/Documents/backupped/Research/YachieLabLocal/FRACTAL/data/NK_0140/result/result_true.csv\", \n",
    "    header=None, \n",
    "    names = (\"scale\", \"Nchunks\", \"Threshold\", \"MaxMem\", \"MemUnit\", \"RunTime\", \"TimeUnit\", \"Ntips\", \"NRDF\"),\n",
    ")\n",
    "df_true[\"Coverage\"] = df_true[\"Ntips\"] / 4000\n",
    "df_true[\"Accuracy\"] = 1- df_true[\"NRDF\"]\n",
    "df_true[\"RecovRatio\"] = df_true[\"Coverage\"] * df_true[\"Accuracy\"]  * 100\n",
    "df_true[\"Nchunks\"] = [int(Nstr.split(\"_\")[0]) for Nstr in df_true[\"Nchunks\"]]\n",
    "df_true"
   ],
   "outputs": [],
   "metadata": {}
  },
  {
   "cell_type": "code",
   "execution_count": null,
   "source": [
    "# 1. Indelの情報は使っていない + substitutionのみMPでplacement\n",
    "fig = plt.figure(figsize=(3,2))\n",
    "ax = fig.add_axes([0.1,0.1,0.8,0.8])\n",
    "sns.lineplot(data=df_algn[df_algn[\"Threshold\"]==1000], x=\"scale\", y=\"RecovRatio\", hue=\"Nchunks\", palette=\"winter_r\",ax=ax)\n",
    "ax.set_xscale(\"log\")\n",
    "#ax.get_xaxis().set_major_formatter(mpl.ticker.ScalarFormatter())\n",
    "ax.set_xlabel(\"Scale (x)\")\n",
    "ax.set_ylabel(\"Recovery ratio (%)\")\n",
    "ax.set_title(\"FRACTAL / algn\")\n",
    "ax.legend(loc=\"lower left\", bbox_to_anchor=(1.02, 0.0,), borderaxespad=0)\n",
    "plt.savefig(\"figures/NK_0140_figure_FRACTALNJ_algn.pdf\", bbox_inches='tight')"
   ],
   "outputs": [],
   "metadata": {}
  },
  {
   "cell_type": "code",
   "execution_count": null,
   "source": [
    "# 1. Indelの情報は使っていない + substitutionのみMPでplacement\n",
    "fig = plt.figure(figsize=(3,2))\n",
    "ax = fig.add_axes([0.1,0.1,0.8,0.8])\n",
    "sns.lineplot(data=df_algn[df_algn[\"Threshold\"]==1000000], x=\"scale\", y=\"RecovRatio\", hue=\"Nchunks\", palette=\"winter_r\",ax=ax)\n",
    "ax.set_xscale(\"log\")\n",
    "#ax.get_xaxis().set_major_formatter(mpl.ticker.ScalarFormatter())\n",
    "ax.set_xlabel(\"Scale (x)\")\n",
    "ax.set_ylabel(\"Recovery ratio (%)\")\n",
    "ax.set_title(\"Original / algn\")\n",
    "ax.legend(loc=\"lower left\", bbox_to_anchor=(1.02, 0.0,), borderaxespad=0)\n",
    "plt.savefig(\"figures/NK_0140_figure_OriginalNJ_algn.pdf\", bbox_inches='tight')"
   ],
   "outputs": [],
   "metadata": {}
  },
  {
   "cell_type": "code",
   "execution_count": null,
   "source": [
    "# 1. Indelの情報は使っていない + substitutionのみMPでplacement\n",
    "fig = plt.figure(figsize=(3,2))\n",
    "ax = fig.add_axes([0.1,0.1,0.8,0.8])\n",
    "sns.lineplot(data=df_true[df_true[\"Threshold\"]==1000], x=\"scale\", y=\"RecovRatio\", hue=\"Nchunks\", palette=\"winter_r\",ax=ax)\n",
    "ax.set_xscale(\"log\")\n",
    "#ax.get_xaxis().set_major_formatter(mpl.ticker.ScalarFormatter())\n",
    "ax.set_xlabel(\"Scale (x)\")\n",
    "ax.set_ylabel(\"Recovery ratio (%)\")\n",
    "ax.set_title(\"FRACTAL / true\")\n",
    "ax.legend(loc=\"lower left\", bbox_to_anchor=(1.02, 0.0,), borderaxespad=0)\n",
    "plt.savefig(\"figures/figure_FRACTALNJ_true.pdf\", bbox_inches='tight')"
   ],
   "outputs": [],
   "metadata": {}
  },
  {
   "cell_type": "code",
   "execution_count": null,
   "source": [
    "# 1. Indelの情報は使っていない + substitutionのみMPでplacement\n",
    "fig = plt.figure(figsize=(3,2))\n",
    "ax = fig.add_axes([0.1,0.1,0.8,0.8])\n",
    "sns.lineplot(data=df_true[df_true[\"Threshold\"]==1000000], x=\"scale\", y=\"RecovRatio\", hue=\"Nchunks\", palette=\"winter_r\",ax=ax)\n",
    "ax.set_xscale(\"log\")\n",
    "#ax.get_xaxis().set_major_formatter(mpl.ticker.ScalarFormatter())\n",
    "ax.set_xlabel(\"Scale (x)\")\n",
    "ax.set_ylabel(\"Recovery ratio (%)\")\n",
    "ax.set_title(\"Original / true\")\n",
    "ax.legend(loc=\"lower left\", bbox_to_anchor=(1.02, 0.0,), borderaxespad=0)\n",
    "plt.savefig(\"figures/figure_OriginalNJ_true.pdf\", bbox_inches='tight')"
   ],
   "outputs": [],
   "metadata": {}
  },
  {
   "cell_type": "code",
   "execution_count": null,
   "source": [
    "df = pd.read_csv(\n",
    "    \"/Users/nk/Documents/backupped/Research/YachieLabLocal/FRACTAL/data/NK_0140/prob.1.csv\", \n",
    "    index_col=0\n",
    ").T\n",
    "pam_df=pd.read_table(\"/Users/nk/Documents/backupped/Research/YachieLabLocal/FRACTAL/data/NK_0115/parameters/notebook/pos_ispam.txt\", header=None)"
   ],
   "outputs": [],
   "metadata": {}
  },
  {
   "cell_type": "code",
   "execution_count": null,
   "source": [
    "df['CTpercent'] = df['CT'] * 100\n",
    "df['AGpercent'] = df['AG'] * 100\n",
    "statistics.mean(df['CTpercent']), statistics.mean(df['AGpercent'])"
   ],
   "outputs": [],
   "metadata": {}
  },
  {
   "cell_type": "code",
   "execution_count": null,
   "source": [
    "for column, label in [('CTpercent', \"C-to-T/pos./gen. (%)\"), ('AGpercent',\"A-to-G/pos./gen. (%)\")]:\n",
    "    fig = plt.figure(figsize=(6,2))\n",
    "    ax = fig.add_axes([0.1,0.1,0.8,0.8])\n",
    "    ax2 = fig.add_axes([0.1,0,0.8,0.05])\n",
    "    sns.barplot(x = list(range(255)), y=column, data= df,ax=ax)\n",
    "    sns.barplot(x = list(range(255)), y=0, data= pam_df,ax=ax2)\n",
    "    #ax.set_xlabel(\"Scale (x)\")\n",
    "    ax.set_ylabel(label)\n",
    "    ax.set_ylim(0,100)\n",
    "    ax.tick_params(bottom=False,)\n",
    "    ax.set_xticklabels([])\n",
    "    #ax.get_legend().remove()\n",
    "    ax2.set_ylabel(\"\")\n",
    "    ax2.tick_params(left=False,)\n",
    "    ax2.set_yticklabels([])\n",
    "    ax2.set_xticks([0, 50, 100, 150, 200, 250])\n",
    "    ax2.set_xticklabels([0, 50, 100, 150, 200, 250])\n",
    "    ax2.set_xlabel(\"Position\")\n",
    "    plt.savefig(\"figures/figure_pos_prob.\"+column+\".pdf\", bbox_inches='tight')\n",
    "    plt.show()\n",
    "    plt.close()"
   ],
   "outputs": [],
   "metadata": {}
  },
  {
   "cell_type": "code",
   "execution_count": null,
   "source": [
    "for i, pam in enumerate(list(pam_df[0])):\n",
    "    print(i,pam,'\\t')"
   ],
   "outputs": [],
   "metadata": {}
  },
  {
   "cell_type": "code",
   "execution_count": null,
   "source": [
    "for column, label, color in [('CTpercent', \"Average C-to-T frequency (%)\", '#4575B3'), ('AGpercent',\"Averagy A-to-G frequency (%)\", '#E4B846')]:\n",
    "    fig = plt.figure(figsize=(2,2))\n",
    "    ax = fig.add_axes([0.1,0.1,0.8,0.8])\n",
    "    ax2 = fig.add_axes([0.1,0,0.8,0.05])\n",
    "    \n",
    "    \n",
    "    ax.bar(x = list(range(27)), height=np.array(list(df[column][-27:]))/sum(list(df[column][-27:]))*100,color=color,width=1)\n",
    "    ax2.bar(x = list(range(27)), height=list(pam_df[-27:][0]),color='#000000',width=1)\n",
    "    ax2.set_facecolor(\"#DDDDDD\")\n",
    "    #ax.set_xlabel(\"Scale (x)\")\n",
    "    ax.tick_params(bottom=False,)\n",
    "    ax.set_ylabel(label)\n",
    "    ax.set_xlim(-0.5,26.5)\n",
    "    #ax.set_ylim(0,100)\n",
    "    \n",
    "    ax.set_xticklabels([])\n",
    "    #ax.get_legend().remove()\n",
    "    ax2.set_yticks([])\n",
    "    ax2.set_xlim(-0.5,26.5)\n",
    "    #ax2.tick_params(left=False,)\n",
    "    #ax2.set_yticklabels([])\n",
    "    #ax2.set_xticks([0, 50, 100, 150, 200, 250])\n",
    "    #ax2.set_xticklabels([0, 50, 100, 150, 200, 250])\n",
    "    ax2.set_xlabel(\"Position\")\n",
    "    plt.savefig(\"figures/NK_0140_one_target.\"+column+\".pdf\", bbox_inches='tight')\n",
    "    plt.show()\n",
    "    plt.close()"
   ],
   "outputs": [],
   "metadata": {}
  },
  {
   "cell_type": "code",
   "execution_count": null,
   "source": [],
   "outputs": [],
   "metadata": {}
  }
 ],
 "metadata": {
  "kernelspec": {
   "display_name": "Python 3",
   "language": "python",
   "name": "python3"
  },
  "language_info": {
   "codemirror_mode": {
    "name": "ipython",
    "version": 3
   },
   "file_extension": ".py",
   "mimetype": "text/x-python",
   "name": "python",
   "nbconvert_exporter": "python",
   "pygments_lexer": "ipython3",
   "version": "3.7.1-final"
  }
 },
 "nbformat": 4,
 "nbformat_minor": 2
}