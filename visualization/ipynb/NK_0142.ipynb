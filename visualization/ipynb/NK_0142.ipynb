{
 "cells": [
  {
   "cell_type": "code",
   "execution_count": null,
   "source": [
    "import random\n",
    "import os\n",
    "import sys \n",
    "import matplotlib.pyplot as plt\n",
    "import matplotlib as mpl\n",
    "import seaborn as sns\n",
    "import pandas as pd\n",
    "import numpy as np\n",
    "from sklearn import linear_model\n",
    "import gzip\n",
    "import scipy.interpolate as si\n",
    "from Bio import Phylo\n",
    "import networkx as nx\n",
    "#import pygraphviz\n",
    "from networkx.drawing.nx_agraph import graphviz_layout\n",
    "#import ndex2.client\n",
    "#import ndex2\n",
    "import os\n",
    "import sys\n",
    "import time\n",
    "import collections\n",
    "random.seed(0)"
   ],
   "outputs": [],
   "metadata": {}
  },
  {
   "cell_type": "code",
   "execution_count": null,
   "source": [
    "mpl.rcParams['font.family']       = 'Helvetica'\n",
    "mpl.rcParams['font.sans-serif']   = [\"Helvetica\",\"Arial\",\"DejaVu Sans\",\"Lucida Grande\",\"Verdana\"]\n",
    "mpl.rcParams['figure.figsize']    = [4,3]\n",
    "mpl.rcParams['font.size']         = 9\n",
    "mpl.rcParams[\"axes.labelcolor\"]   = \"#000000\"\n",
    "mpl.rcParams[\"axes.linewidth\"]    = 1.0 \n",
    "mpl.rcParams[\"xtick.major.width\"] = 1.0\n",
    "mpl.rcParams[\"ytick.major.width\"] = 1.0\n",
    "cmap1 = plt.cm.tab10\n",
    "cmap2 = plt.cm.Set3  \n",
    "colors1 = [cmap1(i) for i in range(0,10)]\n",
    "colors2 = [cmap2(i) for i in range(0,12)] \n",
    "plt.style.use('default')"
   ],
   "outputs": [],
   "metadata": {}
  },
  {
   "cell_type": "code",
   "execution_count": null,
   "source": [
    "os.chdir(\"/Users/nk/Documents/backupped/Research/YachieLabLocal/FRACTAL/data/NK_0142\")\n",
    "try:\n",
    "    os.mkdir(\"figures\")\n",
    "except:\n",
    "    None"
   ],
   "outputs": [],
   "metadata": {}
  },
  {
   "cell_type": "code",
   "execution_count": null,
   "source": [
    "# Runtime fitting\n",
    "df_runtime = pd.read_csv(\"/Users/nk/Documents/backupped/Research/YachieLabLocal/FRACTAL/data/NK_0142/fitting/runtime_result.gc.csv\", names = [\"Nseq\",\"Runtime\",\"RuntimeUnit\",\"Niter\",\"unit\"])\n",
    "#df_runtime"
   ],
   "outputs": [],
   "metadata": {}
  },
  {
   "cell_type": "code",
   "execution_count": null,
   "source": [
    "df_runtime_ext = df_runtime[(df_runtime[\"Niter\"]==1) & (df_runtime[\"Nseq\"]>10000)]\n",
    "clf = linear_model.LinearRegression(fit_intercept=False) # 原点を通るモデル\n",
    "\n",
    "X = [[x] for x in df_runtime_ext[\"Nseq\"]/1000]\n",
    "Y=df_runtime_ext[\"Runtime\"]\n",
    "clf.fit(X, Y)\n",
    "# Y = aX\n",
    "# a\n",
    "print(\"y = \", clf.coef_[0]/1000, \"x,\", \"R^2 = \", clf.score(X, Y))\n",
    "\n",
    "fig = plt.figure(figsize=(2,2))\n",
    "ax = fig.add_axes([0.1,0.1,0.8,0.8])\n",
    "\n",
    "\n",
    "ax.scatter(df_runtime_ext[\"Nseq\"]/1000, df_runtime_ext[\"Runtime\"], color = \"#7F33FF\", alpha = 0.5, s=15)\n",
    "\n",
    "plt.plot(X, clf.predict(X), color = \"#000000\")\n",
    "\n",
    "ax.set_xticks([0,200,400])\n",
    "ax.set_xlabel(\"Number of sequences\\nin each FRACTAL iteration ($\\\\times 10^3$)\")\n",
    "ax.set_ylabel(\"Runtime (sec)\")\n",
    "plt.gca().spines['right'].set_visible(False)\n",
    "plt.gca().spines['top'].set_visible(False)\n",
    "\n",
    "plt.savefig(\"figures/NK_0142_runtime.pdf\", bbox_inches='tight')\n",
    "plt.close()"
   ],
   "outputs": [],
   "metadata": {}
  },
  {
   "cell_type": "code",
   "execution_count": null,
   "source": [
    "df=pd.read_csv('/Users/nk/Documents/backupped/Research/YachieLabLocal/FRACTAL/data/NK_0142/simulation/result.runtime.sim.csv', names=['ID','tip_num', 'node_num', 'model', 'time', 'time_unit'])\n",
    "\n",
    "def fmt(X, Y, Z, x, y):\n",
    "    # input: X,Y: x,yのmeshgrid, Z: f(X,Y)の値, x,y:求めたいzのx,y座標\n",
    "    # output: f(x,y)の値\n",
    "    z = np.take(si.interp2d(X, Y, Z)(x, y), 0)\n",
    "    return z\n",
    "\n",
    "tip_num_range=np.array([1048576,2097152,4194304,8388608,16777216,33554432,67108864,134217728,268435456,536870912,1073741824,2147483648,4294967296,8589934592,17179869184])\n",
    "node_num_range=np.array([1,2,5,10,20,30,40,50,60,70,80,90,100, 150, 200, 300, 400, 600, 800, 1200, 1600, 2400, 3200, 4800, 6400, 10000, 15000, 20000])\n",
    "\n",
    "plt.style.use('dark_background')\n",
    "y = tip_num_range\n",
    "x = node_num_range\n",
    "X, Y = np.meshgrid(x, np.log10(y))\n",
    "\n",
    "\n",
    "for model in [1,2]:\n",
    "    Z=np.zeros((len(y),len(x)))\n",
    "\n",
    "    ext_df=df[df.model==model]\n",
    "    for i in range(len(ext_df)):\n",
    "        Z[list(y).index(list(ext_df.tip_num)[i])][list(x).index(list(ext_df.node_num)[i])]=list(ext_df.time)[i]\n",
    "\n",
    "    Z_small=Z\n",
    "    for i in range(len(Z_small)):\n",
    "        for j in range(len(Z_small[0])):\n",
    "            Z_small[i][j]=np.log10(Z_small[i][j]/86400)\n",
    "\n",
    "    fig = plt.figure(figsize=(1.6,1.6))\n",
    "    ax = fig.add_axes([0.1,0.1,0.8,0.8])\n",
    "\n",
    "    #set_levels\n",
    "    levels=[-4,-3,-2,-1,0,1,2, 3,4]\n",
    "    #num_of_levels=int(input())\n",
    "    #for i in range(num_of_levels):\n",
    "    #    levels.append(float(input()))\n",
    "\n",
    "    cont = ax.contour(X, Y, Z_small, levels=levels,colors=['white'])\n",
    "    cont.clabel(fmt='$10^{%1.0f}$', fontsize=10)\n",
    "    ax.tick_params(labelsize=10)\n",
    "    ax.set_facecolor((0,0,0,1))\n",
    "    cf=plt.contourf(X,Y,Z_small, cmap='jet', levels=np.arange(-5,4.5,0.1))\n",
    "\n",
    "    # get estimated at Fig. 2 condition\n",
    "    Nnodes=300\n",
    "    Nseq=235100752\n",
    "    log10_days=fmt(np.log10(X),Y,Z_small, np.log10(Nnodes), np.log10(Nseq))\n",
    "    days=pow(10,log10_days)\n",
    "    hrs=days*24\n",
    "    print(\"model: \"+str(model)+\"\\nNum. of nodes: \"+str(Nnodes)+\"\\nNum. of sequences: \"+str(Nseq)+\"\\nEstimated Run Time: \"+str(hrs)+\" hrs\")\n",
    "\n",
    "\n",
    "    #plt.colorbar(cf,ax=ax,ticks=[-4,-3,-2,-1,0,1,2,3,4])\n",
    "    ax.set_xscale(\"log\")\n",
    "    ax.set_ylim(6,10.2)\n",
    "\n",
    "    #ax.zaxis.set_major_locator(LinearLocator(10))\n",
    "    #ax.zaxis.set_major_formatter(FormatStrFormatter('%.02f'))\n",
    "    ax.set_xlabel(\"#computer nodes used\")\n",
    "    ax.set_ylabel(\"Number of sequences\\n($10^x$ sequences)\")\n",
    "    plt.gca().spines['right'].set_visible(False)\n",
    "    plt.gca().spines['top'].set_visible(False)\n",
    "    plt.gca().spines['left'].set_visible(False)\n",
    "    plt.gca().spines['bottom'].set_visible(False)\n",
    "    fig.savefig(\"figures/NK_0142_simulated_time_mode\"+str(model)+\"_dark.pdf\",bbox_inches=\"tight\")\n",
    "    #plt.show()\n",
    "    plt.close()"
   ],
   "outputs": [],
   "metadata": {}
  },
  {
   "cell_type": "code",
   "execution_count": null,
   "source": [
    "df_fractal = pd.read_csv(\"/Users/nk/Documents/backupped/Research/YachieLabLocal/FRACTAL/data/NK_0142/accuracy/accuracy.fractal.csv\",names=[\"Nseq\",\"Ntips\",\"NRFD\"])\n",
    "df_rapidnj = pd.read_csv(\"/Users/nk/Documents/backupped/Research/YachieLabLocal/FRACTAL/data/NK_0142/accuracy/accuracy.rapidnj.csv\",names=[\"Nseq\",\"Ntips\",\"NRFD\"])\n",
    "df_fractal[\"Accuracy\"] = (1-df_fractal[\"NRFD\"])*100\n",
    "df_rapidnj[\"Accuracy\"] = (1-df_rapidnj[\"NRFD\"])*100\n",
    "df_fractal"
   ],
   "outputs": [],
   "metadata": {}
  },
  {
   "cell_type": "code",
   "execution_count": null,
   "source": [
    "plt.style.use('dark_background')\n",
    "\n",
    "fig=plt.figure(figsize=(1.2,1.2))\n",
    "ax = fig.add_axes([0.1,0.1,0.8,0.8])\n",
    "ax.scatter(x = df_fractal['Ntips'], y = df_fractal[\"Accuracy\"], color =\"#7F33FF\",s=8)\n",
    "ax.set_xlabel(\"\")\n",
    "ax.set_xscale(\"log\")\n",
    "\n",
    "ax.set_ylim(99.6,100)\n",
    "ax.set_yticks([99.6,99.7,99.8,99.9,100])\n",
    "ax.set_xticks(list(np.arange(1,11)*100000))\n",
    "\n",
    "#ax.set_xticklabels([100000,1000000])\n",
    "ax.set_xlim(100000,1100000)\n",
    "\n",
    "ax.tick_params(left=True, labelleft=True,right=False, labelright=False, bottom=True, labelbottom=False, top=False, labeltop=False)\n",
    "\n",
    "fig.savefig(\"figures/NK_0142_fractal_accuracy.pdf\",bbox_inches=\"tight\")\n",
    "plt.show()\n",
    "plt.close()\n",
    "fig=plt.figure(figsize=(3, 2.5))\n",
    "ax = fig.add_axes([0.1,0.1,0.8,0.8])\n",
    "ax.scatter(x = df_fractal['Ntips'], y = df_fractal[\"Accuracy\"], color =\"#7F33FF\",s=8)\n",
    "ax.scatter(x = df_rapidnj['Ntips'], y = df_rapidnj[\"Accuracy\"], color =\"#FFD479\",s=8)\n",
    "ax.set_xlabel(\"Number of sequences\")\n",
    "ax.set_ylabel(\"1- NRFD (%)\")\n",
    "ax.set_ylim(0,105)\n",
    "ax.set_xlim(500,1.2*(np.power(10,6)))\n",
    "ax.set_xscale(\"log\")\n",
    "ax.tick_params(axis = 'x', colors ='white', labelsize=9)\n",
    "ax.tick_params(axis = 'y', colors = 'white', labelsize=9)\n",
    "ax.spines[\"top\"].set_color(\"none\")\n",
    "ax.spines[\"right\"].set_color(\"none\")\n",
    "ax.set_facecolor(\"none\")\n",
    "fig.savefig(\"figures/NK_0142_fractal_rapidnj_accuracy.pdf\",bbox_inches=\"tight\")\n",
    "plt.show()\n",
    "plt.close()"
   ],
   "outputs": [],
   "metadata": {}
  },
  {
   "cell_type": "code",
   "execution_count": null,
   "source": [
    "fig=plt.figure(figsize=(3, 2.5))\n",
    "ax = fig.add_axes([0.1,0.1,0.8,0.8])\n",
    "ax.scatter(x = df_fractal['Ntips'], y = df_fractal[\"Accuracy\"], color =\"#7F33FF\",s=8)\n",
    "ax.scatter(x = df_rapidnj['Ntips'], y = df_rapidnj[\"Accuracy\"], color =\"#FFD479\",s=8)\n",
    "ax.set_xlabel(\"Number of sequences\")\n",
    "ax.set_ylabel(\"1- NRFD (%)\")\n",
    "ax.set_ylim(98,100)\n",
    "ax.set_xlim(800,1.2*(np.power(10,6)))\n",
    "ax.set_xscale(\"log\")\n",
    "ax.tick_params(axis = 'x', colors ='white', labelsize=9)\n",
    "ax.tick_params(axis = 'y', colors = 'white', labelsize=9)\n",
    "ax.spines[\"top\"].set_color(\"none\")\n",
    "ax.spines[\"right\"].set_color(\"none\")\n",
    "ax.set_facecolor(\"none\")\n",
    "plt.show()\n",
    "plt.close()"
   ],
   "outputs": [],
   "metadata": {}
  },
  {
   "cell_type": "code",
   "execution_count": null,
   "source": [
    "df_fractal[df_fractal['Nseq'] == 100000]"
   ],
   "outputs": [],
   "metadata": {}
  },
  {
   "cell_type": "code",
   "execution_count": null,
   "source": [
    "df_time = pd.read_table(\"/Users/nk/Documents/backupped/Research/YachieLabLocal/FRACTAL/data/NK_0142/time/node_count.txt\", names = ('date', 'date_sec', 'running', 'running+waiting'))"
   ],
   "outputs": [],
   "metadata": {}
  },
  {
   "cell_type": "code",
   "execution_count": null,
   "source": [
    "df_time['waiting'] = df_time['running+waiting'] - df_time['running']\n",
    "df_time['run_time'] = df_time['date_sec'] - 1607930353\n",
    "df_time"
   ],
   "outputs": [],
   "metadata": {}
  },
  {
   "cell_type": "code",
   "execution_count": null,
   "source": [
    "fig = plt.figure(figsize=(2,1.4))\n",
    "ax = fig.add_axes([0.1,0.1,0.8,0.8])\n",
    "#sns.lineplot(data=df, x=\"run_time\", y=\"running+waiting\", label = 'running + waiting')\n",
    "#sns.lineplot(data=df, x=\"run_time\", y=\"running\",label='running')\n",
    "\n",
    "x=list(df_time['run_time'])\n",
    "\n",
    "plt.stackplot(x,df_time[\"running+waiting\"], color = \"#6E8A92\", alpha=1 )\n",
    "plt.stackplot(x,df_time['running'], color = \"#576C74\", alpha=1 )\n",
    "\n",
    "ax.set_xlim(0,120000)\n",
    "ax.set_xlabel(\"Time (sec)\")\n",
    "ax.set_ylabel(\"Number of computing\\nnodes used\")\n",
    "plt.gca().spines['right'].set_visible(False)\n",
    "plt.gca().spines['top'].set_visible(False)\n",
    "plt.savefig(\"figures/NK_0142_time_node.pdf\", bbox_inches='tight')\n",
    "plt.close()"
   ],
   "outputs": [],
   "metadata": {}
  },
  {
   "cell_type": "code",
   "execution_count": null,
   "source": [
    "def ask_user_info():\n",
    "    print(\"Enter your account:\")\n",
    "    my_account = input()\n",
    "    print(\"Enter your password:\")\n",
    "    my_password = input()\n",
    "    return my_account, my_password\n",
    "\n",
    "server=\"http://test.ndexbio.org\"\n",
    "my_account, my_password = ask_user_info()\n",
    "my_ndex=ndex2.client.Ndex2(server, my_account, my_password)"
   ],
   "outputs": [],
   "metadata": {}
  },
  {
   "cell_type": "code",
   "execution_count": null,
   "source": [
    "# get info of ndex network set\n",
    "set_dict = my_ndex.get_network_set(\"984166e6-4001-11eb-8821-0660b7976219\")"
   ],
   "outputs": [],
   "metadata": {}
  },
  {
   "cell_type": "code",
   "execution_count": null,
   "source": [
    "with open(\"/Users/nk/Documents/backupped/Research/YachieLabLocal/FRACTAL/data/NK_0142/hiview/uuid_dir_name.txt\", 'w') as handle:\n",
    "    for network_uuid in set_dict['networks']:\n",
    "        #network_uuid    = set_dict['networks'][0]\n",
    "        network_summary = my_ndex.get_network_summary(network_uuid)\n",
    "        print(network_summary['externalId'], network_summary['description'], network_summary['name'], sep = '\\t', file = handle)"
   ],
   "outputs": [],
   "metadata": {}
  },
  {
   "cell_type": "code",
   "execution_count": null,
   "source": [
    "%ls -l /Users/nk/Documents/backupped/Research/YachieLabLocal/FRACTAL/data/NK_0142/hiview/uuid_dir_name.txt"
   ],
   "outputs": [],
   "metadata": {}
  },
  {
   "cell_type": "code",
   "execution_count": null,
   "source": [
    "tree = Phylo.read(\"/Users/nk/Documents/backupped/Research/YachieLabLocal/FRACTAL/data/NK_0142/hiview/FRACTALclustering_history.2.nwk\", 'newick')\n",
    "node2depth = tree.depths()"
   ],
   "outputs": [],
   "metadata": {}
  },
  {
   "cell_type": "code",
   "execution_count": null,
   "source": [
    "plt.hist([node2depth[tip] for tip in tree.get_terminals()], range= (0,10), bins= 10)"
   ],
   "outputs": [],
   "metadata": {
    "tags": []
   }
  },
  {
   "cell_type": "code",
   "execution_count": null,
   "source": [
    "np.median([node2depth[tip] for tip in tree.get_terminals()])"
   ],
   "outputs": [],
   "metadata": {}
  },
  {
   "cell_type": "code",
   "execution_count": null,
   "source": [
    "len(tree.get_nonterminals() + tree.get_terminals())"
   ],
   "outputs": [],
   "metadata": {}
  },
  {
   "cell_type": "code",
   "execution_count": null,
   "source": [],
   "outputs": [],
   "metadata": {}
  }
 ],
 "metadata": {
  "kernelspec": {
   "name": "python391jvsc74a57bd0a1e5715f1a9b8bb34f63c3d966d40c5c588b4d4fc6358b5bb274d07955f54348",
   "display_name": "Python 3.9.1 64-bit ('fractal': conda)"
  },
  "language_info": {
   "codemirror_mode": {
    "name": "ipython",
    "version": 3
   },
   "file_extension": ".py",
   "mimetype": "text/x-python",
   "name": "python",
   "nbconvert_exporter": "python",
   "pygments_lexer": "ipython3",
   "version": "3.9.1"
  }
 },
 "nbformat": 4,
 "nbformat_minor": 2
}